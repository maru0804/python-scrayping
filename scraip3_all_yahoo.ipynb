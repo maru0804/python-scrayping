{
 "cells": [
  {
   "cell_type": "code",
   "execution_count": 1,
   "metadata": {},
   "outputs": [],
   "source": [
    "import requests\n",
    "from bs4 import BeautifulSoup\n",
    "import urllib3\n",
    "import certifi\n",
    "\n",
    "# URL取得\n",
    "url = \"https://news.yahoo.co.jp\"\n",
    "http = urllib3.PoolManager(cert_reqs='CERT_REQUIRED',ca_certs=certifi.where())\n",
    "r = http.request('GET', url)\n",
    "# HTNL取得\n",
    "soup = BeautifulSoup(r.data, 'html.parser')\n",
    "\n",
    "top_news=soup.select('[data-ual-gotocontent=\"true\"]')\n",
    "\n",
    "news_top_list=[]\n",
    "news_top_url=[]\n",
    "# 該当の箇所を抽出\n",
    "for tag in top_news:\n",
    "    if len(news_top_list)==8:\n",
    "        break\n",
    "    else:\n",
    "        if tag.string is None:\n",
    "            news_top_url.append(tag.attrs['href'])\n",
    "            for tag2 in tag:\n",
    "                if tag2.string is None:\n",
    "                    pass\n",
    "                else:\n",
    "                    news_top_list.append(tag2.string)\n",
    "        else:\n",
    "            news_top_url.append(tag.attrs['href'])\n",
    "            news_top_list.append(tag.string)"
   ]
  },
  {
   "cell_type": "code",
   "execution_count": 2,
   "metadata": {},
   "outputs": [
    {
     "data": {
      "text/plain": [
       "['臨時施設も入院措置対象 方針',\n",
       " '都で38人感染 4日連続で2桁',\n",
       " '側溝の遺体に複数の損傷 富山',\n",
       " '沖縄 夜遅くまで土砂災害注意',\n",
       " 'ホタルイカ豊漁 漁協は嘆き',\n",
       " '上海ディズニー 11日から再開',\n",
       " '瀬戸と荻野は対照的?五輪延期',\n",
       " 'モト冬樹 志村さんに後悔の念']"
      ]
     },
     "execution_count": 2,
     "metadata": {},
     "output_type": "execute_result"
    }
   ],
   "source": [
    "news_top_list"
   ]
  },
  {
   "cell_type": "code",
   "execution_count": 3,
   "metadata": {},
   "outputs": [
    {
     "data": {
      "text/plain": [
       "['https://news.yahoo.co.jp/pickup/6359072',\n",
       " 'https://news.yahoo.co.jp/pickup/6359075',\n",
       " 'https://news.yahoo.co.jp/pickup/6359078',\n",
       " 'https://news.yahoo.co.jp/pickup/6359079',\n",
       " 'https://news.yahoo.co.jp/pickup/6359082',\n",
       " 'https://news.yahoo.co.jp/pickup/6359067',\n",
       " 'https://news.yahoo.co.jp/pickup/6359077',\n",
       " 'https://news.yahoo.co.jp/pickup/6359085']"
      ]
     },
     "execution_count": 3,
     "metadata": {},
     "output_type": "execute_result"
    }
   ],
   "source": [
    "news_top_url"
   ]
  },
  {
   "cell_type": "code",
   "execution_count": 4,
   "metadata": {},
   "outputs": [
    {
     "name": "stdout",
     "output_type": "stream",
     "text": [
      "臨時施設も入院措置対象 方針\n",
      "都で38人感染 4日連続で2桁\n",
      "側溝の遺体に複数の損傷 富山\n",
      "沖縄 夜遅くまで土砂災害注意\n",
      "ホタルイカ豊漁 漁協は嘆き\n",
      "上海ディズニー 11日から再開\n",
      "瀬戸と荻野は対照的?五輪延期\n",
      "モト冬樹 志村さんに後悔の念\n"
     ]
    }
   ],
   "source": [
    "for n in news_top_list:\n",
    "    print(n)"
   ]
  },
  {
   "cell_type": "code",
   "execution_count": null,
   "metadata": {},
   "outputs": [],
   "source": []
  }
 ],
 "metadata": {
  "kernelspec": {
   "display_name": "Python 3",
   "language": "python",
   "name": "python3"
  },
  "language_info": {
   "codemirror_mode": {
    "name": "ipython",
    "version": 3
   },
   "file_extension": ".py",
   "mimetype": "text/x-python",
   "name": "python",
   "nbconvert_exporter": "python",
   "pygments_lexer": "ipython3",
   "version": "3.7.7"
  }
 },
 "nbformat": 4,
 "nbformat_minor": 2
}
